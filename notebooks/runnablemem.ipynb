{
 "cells": [
  {
   "cell_type": "code",
   "execution_count": 26,
   "metadata": {},
   "outputs": [
    {
     "data": {
      "text/plain": [
       "True"
      ]
     },
     "execution_count": 26,
     "metadata": {},
     "output_type": "execute_result"
    }
   ],
   "source": [
    "from dotenv import load_dotenv\n",
    "import os\n",
    "load_dotenv(\".env\")"
   ]
  },
  {
   "cell_type": "code",
   "execution_count": 27,
   "metadata": {},
   "outputs": [],
   "source": [
    "os.environ[\"LANGCHAIN_WANDB_TRACING\"] = \"true\"\n",
    "os.environ[\"WANDB_NAME\"] = \"zep\"\n",
    "os.environ[\"WANDB_NOTES\"] = \"zepmem\"\n",
    "os.environ[\"WANDB_PROJECT\"] = \"langchain-tracing\"\n",
    "from langchain.agents import AgentType, initialize_agent, load_tools\n",
    "from langchain.callbacks import wandb_tracing_enabled\n",
    "from langchain_openai import OpenAI\n",
    "os.environ[\"WANDB_NOTEBOOK_NAME\"]=\"./runnablemem.ipynb\""
   ]
  },
  {
   "cell_type": "code",
   "execution_count": 3,
   "metadata": {},
   "outputs": [],
   "source": [
    "from langchain.schema import Document\n",
    "from langchain_community.vectorstores import Redis\n",
    "from langchain_openai import OpenAIEmbeddings\n",
    "\n",
    "embeddings = OpenAIEmbeddings()"
   ]
  },
  {
   "cell_type": "code",
   "execution_count": 4,
   "metadata": {},
   "outputs": [],
   "source": [
    "from typing import Optional\n",
    "\n",
    "from langchain_community.chat_message_histories import RedisChatMessageHistory\n",
    "from langchain_community.chat_models import ChatAnthropic\n",
    "from langchain_core.chat_history import BaseChatMessageHistory\n",
    "from langchain_core.prompts import ChatPromptTemplate, MessagesPlaceholder\n",
    "from langchain_core.runnables.history import RunnableWithMessageHistory"
   ]
  },
  {
   "cell_type": "code",
   "execution_count": 6,
   "metadata": {},
   "outputs": [],
   "source": [
    "from IPython.display import Markdown\n",
    "from langchain.agents.load_tools import get_all_tool_names\n",
    "from langchain import hub\n",
    "prompt = hub.pull(\"hwchase17/react-chat\")\n",
    "from langchain.agents import AgentExecutor, Tool, ZeroShotAgent, create_react_agent\n",
    "from langchain.chains import LLMChain\n",
    "from langchain.memory import ConversationBufferMemory\n",
    "from langchain_community.chat_message_histories import RedisChatMessageHistory\n",
    "from langchain_community.utilities import GoogleSearchAPIWrapper\n",
    "from langchain_openai import OpenAI\n",
    "from langchain import hub\n",
    "from langchain_openai import ChatOpenAI"
   ]
  },
  {
   "cell_type": "code",
   "execution_count": 7,
   "metadata": {},
   "outputs": [],
   "source": [
    "prompt = ChatPromptTemplate.from_messages(\n",
    "    [\n",
    "        (\"system\", \"You're an assistant who's good at {ability}\"),\n",
    "        MessagesPlaceholder(variable_name=\"history\"),\n",
    "        (\"human\", \"{question}\"),\n",
    "    ]\n",
    ")\n",
    "\n",
    "chain = prompt | ChatOpenAI(model=\"gpt-4-1106-preview\",temperature=0.4)"
   ]
  },
  {
   "cell_type": "code",
   "execution_count": 8,
   "metadata": {},
   "outputs": [],
   "source": [
    "chain_with_history = RunnableWithMessageHistory(\n",
    "    chain,\n",
    "    lambda session_id: RedisChatMessageHistory(session_id, url=\"redis://localhost:6379/0\"),\n",
    "    input_messages_key=\"question\",\n",
    "    history_messages_key=\"history\",\n",
    ")\n",
    "\n",
    "config={\"configurable\": {\"session_id\": \"<SESSION_ID>\"}}"
   ]
  },
  {
   "cell_type": "code",
   "execution_count": 9,
   "metadata": {},
   "outputs": [
    {
     "name": "stderr",
     "output_type": "stream",
     "text": [
      "\u001b[34m\u001b[1mwandb\u001b[0m: Streaming LangChain activity to W&B at https://wandb.ai/bradley-euell/langchain-tracing/runs/0fwf3ghz\n",
      "\u001b[34m\u001b[1mwandb\u001b[0m: `WandbTracer` is currently in beta.\n",
      "\u001b[34m\u001b[1mwandb\u001b[0m: Please report any issues to https://github.com/wandb/wandb/issues with the tag `langchain`.\n"
     ]
    },
    {
     "data": {
      "text/plain": [
       "AIMessage(content='Cosine is a trigonometric function that relates the angle of a right triangle to the ratio of the length of the adjacent side to the length of the hypotenuse. It is one of the fundamental functions in trigonometry and is abbreviated as \"cos.\"\\n\\nHere\\'s a more detailed explanation:\\n\\nIn a right-angled triangle:\\n\\n- The hypotenuse is the side opposite the right angle and is the longest side of the triangle.\\n- The adjacent side is the side next to the angle of interest (other than the hypotenuse).\\n- The opposite side is the side across from the angle of interest.\\n\\nThe cosine of an angle (θ) is defined as:\\n\\ncos(θ) = length of the adjacent side / length of the hypotenuse\\n\\nFor example, if you have a right-angled triangle where the length of the hypotenuse is 10 units and the length of the side adjacent to the angle θ is 8 units, then the cosine of angle θ would be:\\n\\ncos(θ) = 8 / 10 = 0.8\\n\\nCosine is also a periodic function, which means it repeats its values in a regular pattern over intervals. It is defined for all real numbers when considered as a function in the context of a unit circle, and it has a range from -1 to 1.\\n\\nIn the unit circle, which has a radius of 1, the cosine of an angle θ corresponds to the x-coordinate of the point on the circle where the angle intercepts the circle. This definition extends the concept of cosine to angles beyond 0° and 90°, allowing for the definition of cosine for a full range of angles from 0° to 360° (or from 0 to 2π radians).\\n\\nCosine is also an even function, which means that cos(θ) = cos(-θ) for all angles θ, and it is an important function in the study of waves, oscillations, and many other areas of mathematics and physics.')"
      ]
     },
     "execution_count": 9,
     "metadata": {},
     "output_type": "execute_result"
    }
   ],
   "source": [
    "chain_with_history.invoke(\n",
    "    {\"ability\": \"math\", \"question\": \"What does cosine mean?\"},\n",
    "    config={\"configurable\": {\"session_id\": \"foobar\"}},\n",
    ")"
   ]
  },
  {
   "cell_type": "code",
   "execution_count": 10,
   "metadata": {},
   "outputs": [
    {
     "data": {
      "text/plain": [
       "AIMessage(content=\"The inverse of the cosine function is called the arccosine function, often denoted as arccos or cos^(-1). The arccosine function takes a value between -1 and 1 (the range of the cosine function) and returns an angle, typically measured in radians or degrees, whose cosine is the given value.\\n\\nFor example, if you have:\\n\\ncos(θ) = x\\n\\nThen the inverse is:\\n\\nθ = arccos(x)\\n\\nThe domain of the arccosine function (the set of values for which the function is defined) is [-1, 1], and its range (the set of possible output values) is typically [0, π] radians or [0°, 180°] when measured in degrees. This is because, for any given value within [-1, 1], there is a unique angle within this range that has that value as its cosine.\\n\\nIt's important to note that since the cosine function is not one-to-one (it does not pass the horizontal line test), its inverse is not defined for all real numbers. To define an inverse, we must restrict the domain of the cosine function to an interval where it is one-to-one. The standard interval chosen is [0, π] for radians or [0°, 180°] for degrees, which corresponds to the range of the arccosine function.\")"
      ]
     },
     "execution_count": 10,
     "metadata": {},
     "output_type": "execute_result"
    }
   ],
   "source": [
    "chain_with_history.invoke(\n",
    "    {\"ability\": \"math\", \"question\": \"What's its inverse\"},\n",
    "    config={\"configurable\": {\"session_id\": \"foobar\"}},\n",
    ")"
   ]
  },
  {
   "cell_type": "code",
   "execution_count": 11,
   "metadata": {},
   "outputs": [
    {
     "data": {
      "text/plain": [
       "{'output_message': AIMessage(content='Simone de Beauvoir, a French existentialist philosopher, writer, and social theorist, is best known for her contributions to existentialism and feminism. Her views on free will are closely tied to her existentialist beliefs, which she shared with her lifelong partner, Jean-Paul Sartre.\\n\\nDe Beauvoir believed that individuals have free will and are responsible for creating meaning in their lives through their choices and actions. She argued that humans are \"condemned to be free,\" a concept she borrowed from Sartre, which suggests that we are thrown into existence without a predetermined essence or purpose and must define ourselves through our decisions and commitments.\\n\\nIn her seminal work \"The Ethics of Ambiguity,\" de Beauvoir delves into the concept of ambiguity, which refers to the tension between our freedom (the ability to transcend our given situation) and our facticity (the concrete details of our lives, including our past, our body, social identity, etc.). She believes that we must navigate this ambiguity by acknowledging our freedom and the responsibility that comes with it, while also recognizing the limitations imposed by our facticity.\\n\\nDe Beauvoir\\'s view of free will also includes the idea that our freedom is intertwined with the freedom of others. She emphasizes the importance of not only recognizing our own freedom but also respecting and promoting the freedom of others. This ethical dimension of her philosophy is central to her feminist work, particularly in \"The Second Sex,\" where she examines the ways in which women have been historically denied their full freedom and subjectivity.\\n\\nIn summary, Simone de Beauvoir believed in the existence of free will and saw it as a fundamental aspect of human existence. She argued that we must exercise our freedom responsibly, with an awareness of the ethical implications of our choices for ourselves and for society at large.')}"
      ]
     },
     "execution_count": 11,
     "metadata": {},
     "output_type": "execute_result"
    }
   ],
   "source": [
    "from langchain_core.messages import HumanMessage\n",
    "from langchain_core.runnables import RunnableParallel\n",
    "\n",
    "chain = RunnableParallel({\"output_message\": ChatOpenAI(model=\"gpt-4-1106-preview\",temperature=0.4)})\n",
    "chain_with_history = RunnableWithMessageHistory(\n",
    "    chain,\n",
    "    lambda session_id: RedisChatMessageHistory(session_id, url=\"redis://localhost:6379/0\"),\n",
    "    output_messages_key=\"output_message\",\n",
    ")\n",
    "\n",
    "chain_with_history.invoke(\n",
    "    [HumanMessage(content=\"What did Simone de Beauvoir believe about free will\")],\n",
    "    config={\"configurable\": {\"session_id\": \"baz\"}},\n",
    ")"
   ]
  },
  {
   "cell_type": "code",
   "execution_count": 12,
   "metadata": {},
   "outputs": [
    {
     "data": {
      "text/plain": [
       "{'output_message': AIMessage(content='Simone de Beauvoir\\'s views on free will are largely consistent with those of Jean-Paul Sartre, as both were prominent existentialist thinkers who influenced each other\\'s work. However, while their fundamental ideas on freedom and existentialism were aligned, there were nuances in their approaches and emphases.\\n\\nSartre, in his existentialist philosophy, famously declared that \"existence precedes essence,\" meaning that individuals are not born with a predetermined nature or purpose. Instead, they are free to define themselves through their choices and actions. Sartre emphasized radical freedom and the idea that individuals are always free to choose, even in situations that seem to constrain their options. According to Sartre, this freedom is inescapable and comes with the weight of responsibility, as individuals must own up to their choices and cannot blame their circumstances or nature for their actions.\\n\\nDe Beauvoir shared Sartre\\'s view on the primacy of existence over essence and the centrality of freedom in human life. However, she extended these ideas with a more nuanced exploration of the ethical implications of freedom. In \"The Ethics of Ambiguity,\" de Beauvoir addressed the complexity of human existence, recognizing that while we are free, our freedom is limited by our situation, our body, and our historical context (what she and Sartre referred to as facticity).\\n\\nMoreover, de Beauvoir\\'s work, particularly in \"The Second Sex,\" focused on the lived experience of women, analyzing how societal structures and expectations can limit women\\'s freedom and agency. She was particularly interested in the ways in which women\\'s freedom has been historically oppressed and how women can reclaim their subjectivity within a patriarchal society.\\n\\nWhile Sartre\\'s philosophy tended to be more abstract and focused on the individual\\'s confrontation with nothingness and the absurdity of existence, de Beauvoir was more concerned with the concrete realities of human relationships and the social context in which freedom is exercised. She emphasized the importance of solidarity and ethical action that considers the freedom of others, not just the individual\\'s own freedom.\\n\\nIn conclusion, both de Beauvoir and Sartre believed in the fundamental freedom of the individual and the responsibility that comes with it. However, de Beauvoir expanded on these ideas by incorporating a more detailed ethical framework and by examining the social and political dimensions of freedom, particularly in relation to gender.')}"
      ]
     },
     "execution_count": 12,
     "metadata": {},
     "output_type": "execute_result"
    }
   ],
   "source": [
    "chain_with_history.invoke(\n",
    "    [HumanMessage(content=\"How did this compare to Sartre\")],\n",
    "    config={\"configurable\": {\"session_id\": \"baz\"}},\n",
    ")"
   ]
  },
  {
   "cell_type": "code",
   "execution_count": 13,
   "metadata": {},
   "outputs": [],
   "source": [
    "from langchain.memory import VectorStoreRetrieverMemory\n",
    "from langchain.chains import ConversationChain\n",
    "import redis\n",
    "\n",
    "message_history = RedisChatMessageHistory(\n",
    "    url=\"redis://localhost:6379/0\", ttl=600, session_id=\"my-session\"\n",
    ")\n",
    "\n",
    "memory = ConversationBufferMemory(\n",
    "    memory_key=\"chat_history\", chat_memory=message_history\n",
    ")"
   ]
  },
  {
   "cell_type": "code",
   "execution_count": 14,
   "metadata": {},
   "outputs": [],
   "source": [
    "import time\n",
    "from uuid import uuid4\n",
    "\n",
    "from langchain.memory import ZepMemory\n",
    "from langchain.schema import AIMessage, HumanMessage"
   ]
  },
  {
   "cell_type": "code",
   "execution_count": 18,
   "metadata": {},
   "outputs": [],
   "source": [
    "ZEP_API_URL = os.environ[\"ZEP_API_URL\"]\n",
    "# Provide your Zep API key. Note that this is optional. See https://docs.getzep.com/deployment/auth\n",
    "AUTHENTICATE = False\n",
    "\n",
    "zep_api_key = None\n",
    "if AUTHENTICATE:\n",
    "    zep_api_key = os.environ[\"ZEP_API_KEY\"]"
   ]
  },
  {
   "cell_type": "code",
   "execution_count": 22,
   "metadata": {},
   "outputs": [],
   "source": [
    "session_id = str(uuid4())  # This is a unique identifier for the user/session\n",
    "\n",
    "# Initialize the Zep Memory Class\n",
    "zep_memory = ZepMemory(session_id=session_id, url=ZEP_API_URL, api_key=zep_api_key)"
   ]
  },
  {
   "cell_type": "code",
   "execution_count": 20,
   "metadata": {},
   "outputs": [
    {
     "name": "stdout",
     "output_type": "stream",
     "text": [
      "Collecting zep-python\n",
      "  Downloading zep_python-1.5.0-py3-none-any.whl.metadata (2.9 kB)\n",
      "Collecting httpx<0.25.0,>=0.24.0 (from zep-python)\n",
      "  Downloading httpx-0.24.1-py3-none-any.whl.metadata (7.4 kB)\n",
      "Requirement already satisfied: packaging<24.0,>=23.1 in /usr/local/python/3.10.13/lib/python3.10/site-packages (from zep-python) (23.2)\n",
      "Requirement already satisfied: pydantic>=1.10.7 in /usr/local/python/3.10.13/lib/python3.10/site-packages (from zep-python) (1.10.13)\n",
      "Requirement already satisfied: certifi in /usr/local/python/3.10.13/lib/python3.10/site-packages (from httpx<0.25.0,>=0.24.0->zep-python) (2023.11.17)\n",
      "Collecting httpcore<0.18.0,>=0.15.0 (from httpx<0.25.0,>=0.24.0->zep-python)\n",
      "  Downloading httpcore-0.17.3-py3-none-any.whl.metadata (18 kB)\n",
      "Requirement already satisfied: idna in /usr/local/python/3.10.13/lib/python3.10/site-packages (from httpx<0.25.0,>=0.24.0->zep-python) (3.6)\n",
      "Requirement already satisfied: sniffio in /usr/local/python/3.10.13/lib/python3.10/site-packages (from httpx<0.25.0,>=0.24.0->zep-python) (1.3.0)\n",
      "Requirement already satisfied: typing-extensions>=4.2.0 in /usr/local/python/3.10.13/lib/python3.10/site-packages (from pydantic>=1.10.7->zep-python) (4.9.0)\n",
      "Requirement already satisfied: h11<0.15,>=0.13 in /usr/local/python/3.10.13/lib/python3.10/site-packages (from httpcore<0.18.0,>=0.15.0->httpx<0.25.0,>=0.24.0->zep-python) (0.14.0)\n",
      "Requirement already satisfied: anyio<5.0,>=3.0 in /usr/local/python/3.10.13/lib/python3.10/site-packages (from httpcore<0.18.0,>=0.15.0->httpx<0.25.0,>=0.24.0->zep-python) (4.2.0)\n",
      "Requirement already satisfied: exceptiongroup>=1.0.2 in /usr/local/python/3.10.13/lib/python3.10/site-packages (from anyio<5.0,>=3.0->httpcore<0.18.0,>=0.15.0->httpx<0.25.0,>=0.24.0->zep-python) (1.2.0)\n",
      "Downloading zep_python-1.5.0-py3-none-any.whl (27 kB)\n",
      "Downloading httpx-0.24.1-py3-none-any.whl (75 kB)\n",
      "\u001b[2K   \u001b[90m━━━━━━━━━━━━━━━━━━━━━━━━━━━━━━━━━━━━━━━━\u001b[0m \u001b[32m75.4/75.4 kB\u001b[0m \u001b[31m1.7 MB/s\u001b[0m eta \u001b[36m0:00:00\u001b[0ma \u001b[36m0:00:01\u001b[0m\n",
      "\u001b[?25hDownloading httpcore-0.17.3-py3-none-any.whl (74 kB)\n",
      "\u001b[2K   \u001b[90m━━━━━━━━━━━━━━━━━━━━━━━━━━━━━━━━━━━━━━━━\u001b[0m \u001b[32m74.5/74.5 kB\u001b[0m \u001b[31m2.4 MB/s\u001b[0m eta \u001b[36m0:00:00\u001b[0m\n",
      "\u001b[?25hInstalling collected packages: httpcore, httpx, zep-python\n",
      "  Attempting uninstall: httpcore\n",
      "    Found existing installation: httpcore 1.0.2\n",
      "    Uninstalling httpcore-1.0.2:\n",
      "      Successfully uninstalled httpcore-1.0.2\n",
      "  Attempting uninstall: httpx\n",
      "    Found existing installation: httpx 0.26.0\n",
      "    Uninstalling httpx-0.26.0:\n",
      "      Successfully uninstalled httpx-0.26.0\n",
      "Successfully installed httpcore-0.17.3 httpx-0.24.1 zep-python-1.5.0\n",
      "Note: you may need to restart the kernel to use updated packages.\n"
     ]
    }
   ],
   "source": [
    "%pip install zep-python"
   ]
  },
  {
   "cell_type": "code",
   "execution_count": 23,
   "metadata": {},
   "outputs": [],
   "source": [
    "# Preload some messages into the memory. The default message window is 12 messages. We want to push beyond this to demonstrate auto-summarization.\n",
    "test_history = [\n",
    "    {\"role\": \"human\", \"content\": \"Who was Octavia Butler?\"},\n",
    "    {\n",
    "        \"role\": \"ai\",\n",
    "        \"content\": (\n",
    "            \"Octavia Estelle Butler (June 22, 1947 – February 24, 2006) was an American\"\n",
    "            \" science fiction author.\"\n",
    "        ),\n",
    "    },\n",
    "    {\"role\": \"human\", \"content\": \"Which books of hers were made into movies?\"},\n",
    "    {\n",
    "        \"role\": \"ai\",\n",
    "        \"content\": (\n",
    "            \"The most well-known adaptation of Octavia Butler's work is the FX series\"\n",
    "            \" Kindred, based on her novel of the same name.\"\n",
    "        ),\n",
    "    },\n",
    "    {\"role\": \"human\", \"content\": \"Who were her contemporaries?\"},\n",
    "    {\n",
    "        \"role\": \"ai\",\n",
    "        \"content\": (\n",
    "            \"Octavia Butler's contemporaries included Ursula K. Le Guin, Samuel R.\"\n",
    "            \" Delany, and Joanna Russ.\"\n",
    "        ),\n",
    "    },\n",
    "    {\"role\": \"human\", \"content\": \"What awards did she win?\"},\n",
    "    {\n",
    "        \"role\": \"ai\",\n",
    "        \"content\": (\n",
    "            \"Octavia Butler won the Hugo Award, the Nebula Award, and the MacArthur\"\n",
    "            \" Fellowship.\"\n",
    "        ),\n",
    "    },\n",
    "    {\n",
    "        \"role\": \"human\",\n",
    "        \"content\": \"Which other women sci-fi writers might I want to read?\",\n",
    "    },\n",
    "    {\n",
    "        \"role\": \"ai\",\n",
    "        \"content\": \"You might want to read Ursula K. Le Guin or Joanna Russ.\",\n",
    "    },\n",
    "    {\n",
    "        \"role\": \"human\",\n",
    "        \"content\": (\n",
    "            \"Write a short synopsis of Butler's book, Parable of the Sower. What is it\"\n",
    "            \" about?\"\n",
    "        ),\n",
    "    },\n",
    "    {\n",
    "        \"role\": \"ai\",\n",
    "        \"content\": (\n",
    "            \"Parable of the Sower is a science fiction novel by Octavia Butler,\"\n",
    "            \" published in 1993. It follows the story of Lauren Olamina, a young woman\"\n",
    "            \" living in a dystopian future where society has collapsed due to\"\n",
    "            \" environmental disasters, poverty, and violence.\"\n",
    "        ),\n",
    "    },\n",
    "    {\"role\": \"human\", \"content\": \"What is the setting of the book?\"},\n",
    "    {\n",
    "        \"role\": \"ai\",\n",
    "        \"content\": (\n",
    "            \"The book is set in a dystopian future in the 2020s, where society has\"\n",
    "            \" collapsed due to climate change and economic crises.\"\n",
    "        ),\n",
    "    },\n",
    "    {\"role\": \"human\", \"content\": \"Who is the protagonist?\"},\n",
    "    {\n",
    "        \"role\": \"ai\",\n",
    "        \"content\": (\n",
    "            \"The protagonist of the book is Lauren Olamina, a young woman who possesses\"\n",
    "            \" 'hyperempathy', the ability to feel pain and other sensations she\"\n",
    "            \" witnesses.\"\n",
    "        ),\n",
    "    },\n",
    "    {\"role\": \"human\", \"content\": \"What is the main theme of the book?\"},\n",
    "    {\n",
    "        \"role\": \"ai\",\n",
    "        \"content\": (\n",
    "            \"The main theme of the book is survival in the face of drastic societal\"\n",
    "            \" change and collapse. It also explores themes of adaptability, community,\"\n",
    "            \" and the human capacity for change.\"\n",
    "        ),\n",
    "    },\n",
    "    {\"role\": \"human\", \"content\": \"What is the 'Parable of the Sower'?\"},\n",
    "    {\n",
    "        \"role\": \"ai\",\n",
    "        \"content\": (\n",
    "            \"The 'Parable of the Sower' is a biblical parable that Butler uses as a\"\n",
    "            \" metaphor in the book. In the parable, a sower scatters seeds, some of\"\n",
    "            \" which fall on fertile ground and grow, while others fall on rocky ground\"\n",
    "            \" or among thorns and fail to grow. The parable is used to illustrate the\"\n",
    "            \" importance of receptivity and preparedness in the face of change.\"\n",
    "        ),\n",
    "    },\n",
    "    {\"role\": \"human\", \"content\": \"What is Butler's writing style like?\"},\n",
    "    {\n",
    "        \"role\": \"ai\",\n",
    "        \"content\": (\n",
    "            \"Butler's writing style is known for its clarity, directness, and\"\n",
    "            \" psychological insight. Her narratives often involve complex, diverse\"\n",
    "            \" characters and explore themes of race, gender, and power.\"\n",
    "        ),\n",
    "    },\n",
    "    {\"role\": \"human\", \"content\": \"What other books has she written?\"},\n",
    "    {\n",
    "        \"role\": \"ai\",\n",
    "        \"content\": (\n",
    "            \"In addition to 'Parable of the Sower', Butler has written several other\"\n",
    "            \" notable works, including 'Kindred', 'Dawn', and 'Parable of the Talents'.\"\n",
    "        ),\n",
    "    },\n",
    "]\n",
    "\n",
    "for msg in test_history:\n",
    "    zep_memory.chat_memory.add_message(\n",
    "        HumanMessage(content=msg[\"content\"])\n",
    "        if msg[\"role\"] == \"human\"\n",
    "        else AIMessage(content=msg[\"content\"])\n",
    "    )\n",
    "\n",
    "time.sleep(\n",
    "    10\n",
    ")  # Wait for the messages to be embedded and summarized. Speed depends on OpenAI API latency and your rate limits."
   ]
  },
  {
   "cell_type": "code",
   "execution_count": 28,
   "metadata": {},
   "outputs": [
    {
     "data": {
      "text/plain": [
       "[Document(page_content=\"What is the 'Parable of the Sower'?\", metadata={'score': 0.9250596761703491, 'uuid': 'b2a4b400-633b-4a8d-a63b-4557c8928043', 'created_at': '2024-01-14T06:48:53.498734Z', 'updated_at': '0001-01-01T00:00:00Z', 'role': 'human', 'metadata': {'system': {'entities': [{'Label': 'WORK_OF_ART', 'Matches': [{'End': 34, 'Start': 13, 'Text': \"Parable of the Sower'\"}], 'Name': \"Parable of the Sower'\"}], 'intent': \"The subject is asking for an explanation or summary of the 'Parable of the Sower'.\"}}, 'token_count': 0}),\n",
       " Document(page_content='Parable of the Sower is a science fiction novel by Octavia Butler, published in 1993. It follows the story of Lauren Olamina, a young woman living in a dystopian future where society has collapsed due to environmental disasters, poverty, and violence.', metadata={'score': 0.8897120952606201, 'uuid': '2d01f292-8bc2-4cb6-b4c0-9520429ccfb4', 'created_at': '2024-01-14T06:48:53.095594Z', 'updated_at': '0001-01-01T00:00:00Z', 'role': 'ai', 'metadata': {'system': {'entities': [{'Label': 'GPE', 'Matches': [{'End': 20, 'Start': 15, 'Text': 'Sower'}], 'Name': 'Sower'}, {'Label': 'PERSON', 'Matches': [{'End': 65, 'Start': 51, 'Text': 'Octavia Butler'}], 'Name': 'Octavia Butler'}, {'Label': 'DATE', 'Matches': [{'End': 84, 'Start': 80, 'Text': '1993'}], 'Name': '1993'}, {'Label': 'PERSON', 'Matches': [{'End': 124, 'Start': 110, 'Text': 'Lauren Olamina'}], 'Name': 'Lauren Olamina'}], 'intent': 'Providing information about the book \"Parable of the Sower\" by Octavia Butler.'}}, 'token_count': 0}),\n",
       " Document(page_content=\"Write a short synopsis of Butler's book, Parable of the Sower. What is it about?\", metadata={'score': 0.8857352137565613, 'uuid': '1299264c-e0d0-4942-ba9b-016a23211a7a', 'created_at': '2024-01-14T06:48:53.048695Z', 'updated_at': '0001-01-01T00:00:00Z', 'role': 'human', 'metadata': {'system': {'entities': [{'Label': 'ORG', 'Matches': [{'End': 32, 'Start': 26, 'Text': 'Butler'}], 'Name': 'Butler'}, {'Label': 'WORK_OF_ART', 'Matches': [{'End': 61, 'Start': 41, 'Text': 'Parable of the Sower'}], 'Name': 'Parable of the Sower'}], 'intent': 'The subject is asking for a summary or overview of the book \"Parable of the Sower\" by Butler.'}}, 'token_count': 0}),\n",
       " Document(page_content=\"The 'Parable of the Sower' is a biblical parable that Butler uses as a metaphor in the book. In the parable, a sower scatters seeds, some of which fall on fertile ground and grow, while others fall on rocky ground or among thorns and fail to grow. The parable is used to illustrate the importance of receptivity and preparedness in the face of change.\", metadata={'score': 0.878172755241394, 'uuid': '8c8077fc-7294-4bd8-83ae-b7192ab307d7', 'created_at': '2024-01-14T06:48:53.545948Z', 'updated_at': '0001-01-01T00:00:00Z', 'role': 'ai', 'metadata': {'system': {'entities': [{'Label': 'WORK_OF_ART', 'Matches': [{'End': 26, 'Start': 5, 'Text': \"Parable of the Sower'\"}], 'Name': \"Parable of the Sower'\"}, {'Label': 'ORG', 'Matches': [{'End': 60, 'Start': 54, 'Text': 'Butler'}], 'Name': 'Butler'}], 'intent': \"The subject is providing information about the 'Parable of the Sower' and its use as a metaphor in a book.\"}}, 'token_count': 0}),\n",
       " Document(page_content=\"In addition to 'Parable of the Sower', Butler has written several other notable works, including 'Kindred', 'Dawn', and 'Parable of the Talents'.\", metadata={'score': 0.8745154142379761, 'uuid': '5920d659-d5b3-441f-a6dc-b10029504f0e', 'created_at': '2024-01-14T06:48:53.843839Z', 'updated_at': '0001-01-01T00:00:00Z', 'role': 'ai', 'metadata': {'system': {'entities': [{'Label': 'WORK_OF_ART', 'Matches': [{'End': 37, 'Start': 16, 'Text': \"Parable of the Sower'\"}], 'Name': \"Parable of the Sower'\"}, {'Label': 'ORG', 'Matches': [{'End': 45, 'Start': 39, 'Text': 'Butler'}], 'Name': 'Butler'}, {'Label': 'GPE', 'Matches': [{'End': 105, 'Start': 98, 'Text': 'Kindred'}], 'Name': 'Kindred'}, {'Label': 'WORK_OF_ART', 'Matches': [{'End': 144, 'Start': 121, 'Text': \"Parable of the Talents'\"}], 'Name': \"Parable of the Talents'\"}], 'intent': \"Sharing information about Octavia Butler's notable works.\"}}, 'token_count': 0})]"
      ]
     },
     "execution_count": 28,
     "metadata": {},
     "output_type": "execute_result"
    }
   ],
   "source": [
    "from langchain.retrievers import ZepRetriever\n",
    "from langchain.retrievers.zep import SearchScope, SearchType\n",
    "\n",
    "zep_retriever = ZepRetriever(\n",
    "    session_id=session_id,  # Ensure that you provide the session_id when instantiating the Retriever\n",
    "    url=ZEP_API_URL,\n",
    "    top_k=5,\n",
    "    api_key=zep_api_key,\n",
    ")\n",
    "\n",
    "await zep_retriever.aget_relevant_documents(\"Who wrote Parable of the Sower?\")"
   ]
  },
  {
   "cell_type": "code",
   "execution_count": 29,
   "metadata": {},
   "outputs": [
    {
     "data": {
      "text/plain": [
       "[Document(page_content=\"What is the 'Parable of the Sower'?\", metadata={'score': 0.9250596761703491, 'uuid': 'b2a4b400-633b-4a8d-a63b-4557c8928043', 'created_at': '2024-01-14T06:48:53.498734Z', 'updated_at': '0001-01-01T00:00:00Z', 'role': 'human', 'metadata': {'system': {'entities': [{'Label': 'WORK_OF_ART', 'Matches': [{'End': 34, 'Start': 13, 'Text': \"Parable of the Sower'\"}], 'Name': \"Parable of the Sower'\"}], 'intent': \"The subject is asking for an explanation or summary of the 'Parable of the Sower'.\"}}, 'token_count': 0}),\n",
       " Document(page_content='Parable of the Sower is a science fiction novel by Octavia Butler, published in 1993. It follows the story of Lauren Olamina, a young woman living in a dystopian future where society has collapsed due to environmental disasters, poverty, and violence.', metadata={'score': 0.8897120952606201, 'uuid': '2d01f292-8bc2-4cb6-b4c0-9520429ccfb4', 'created_at': '2024-01-14T06:48:53.095594Z', 'updated_at': '0001-01-01T00:00:00Z', 'role': 'ai', 'metadata': {'system': {'entities': [{'Label': 'GPE', 'Matches': [{'End': 20, 'Start': 15, 'Text': 'Sower'}], 'Name': 'Sower'}, {'Label': 'PERSON', 'Matches': [{'End': 65, 'Start': 51, 'Text': 'Octavia Butler'}], 'Name': 'Octavia Butler'}, {'Label': 'DATE', 'Matches': [{'End': 84, 'Start': 80, 'Text': '1993'}], 'Name': '1993'}, {'Label': 'PERSON', 'Matches': [{'End': 124, 'Start': 110, 'Text': 'Lauren Olamina'}], 'Name': 'Lauren Olamina'}], 'intent': 'Providing information about the book \"Parable of the Sower\" by Octavia Butler.'}}, 'token_count': 0}),\n",
       " Document(page_content=\"Write a short synopsis of Butler's book, Parable of the Sower. What is it about?\", metadata={'score': 0.8857352137565613, 'uuid': '1299264c-e0d0-4942-ba9b-016a23211a7a', 'created_at': '2024-01-14T06:48:53.048695Z', 'updated_at': '0001-01-01T00:00:00Z', 'role': 'human', 'metadata': {'system': {'entities': [{'Label': 'ORG', 'Matches': [{'End': 32, 'Start': 26, 'Text': 'Butler'}], 'Name': 'Butler'}, {'Label': 'WORK_OF_ART', 'Matches': [{'End': 61, 'Start': 41, 'Text': 'Parable of the Sower'}], 'Name': 'Parable of the Sower'}], 'intent': 'The subject is asking for a summary or overview of the book \"Parable of the Sower\" by Butler.'}}, 'token_count': 0}),\n",
       " Document(page_content=\"The 'Parable of the Sower' is a biblical parable that Butler uses as a metaphor in the book. In the parable, a sower scatters seeds, some of which fall on fertile ground and grow, while others fall on rocky ground or among thorns and fail to grow. The parable is used to illustrate the importance of receptivity and preparedness in the face of change.\", metadata={'score': 0.878172755241394, 'uuid': '8c8077fc-7294-4bd8-83ae-b7192ab307d7', 'created_at': '2024-01-14T06:48:53.545948Z', 'updated_at': '0001-01-01T00:00:00Z', 'role': 'ai', 'metadata': {'system': {'entities': [{'Label': 'WORK_OF_ART', 'Matches': [{'End': 26, 'Start': 5, 'Text': \"Parable of the Sower'\"}], 'Name': \"Parable of the Sower'\"}, {'Label': 'ORG', 'Matches': [{'End': 60, 'Start': 54, 'Text': 'Butler'}], 'Name': 'Butler'}], 'intent': \"The subject is providing information about the 'Parable of the Sower' and its use as a metaphor in a book.\"}}, 'token_count': 0}),\n",
       " Document(page_content=\"In addition to 'Parable of the Sower', Butler has written several other notable works, including 'Kindred', 'Dawn', and 'Parable of the Talents'.\", metadata={'score': 0.8745154142379761, 'uuid': '5920d659-d5b3-441f-a6dc-b10029504f0e', 'created_at': '2024-01-14T06:48:53.843839Z', 'updated_at': '0001-01-01T00:00:00Z', 'role': 'ai', 'metadata': {'system': {'entities': [{'Label': 'WORK_OF_ART', 'Matches': [{'End': 37, 'Start': 16, 'Text': \"Parable of the Sower'\"}], 'Name': \"Parable of the Sower'\"}, {'Label': 'ORG', 'Matches': [{'End': 45, 'Start': 39, 'Text': 'Butler'}], 'Name': 'Butler'}, {'Label': 'GPE', 'Matches': [{'End': 105, 'Start': 98, 'Text': 'Kindred'}], 'Name': 'Kindred'}, {'Label': 'WORK_OF_ART', 'Matches': [{'End': 144, 'Start': 121, 'Text': \"Parable of the Talents'\"}], 'Name': \"Parable of the Talents'\"}], 'intent': \"Sharing information about Octavia Butler's notable works.\"}}, 'token_count': 0})]"
      ]
     },
     "execution_count": 29,
     "metadata": {},
     "output_type": "execute_result"
    }
   ],
   "source": [
    "zep_retriever.get_relevant_documents(\"Who wrote Parable of the Sower?\")"
   ]
  },
  {
   "cell_type": "code",
   "execution_count": 30,
   "metadata": {},
   "outputs": [
    {
     "data": {
      "text/plain": [
       "[Document(page_content=\"What is the 'Parable of the Sower'?\", metadata={'score': 0.9250596761703491, 'uuid': 'b2a4b400-633b-4a8d-a63b-4557c8928043', 'created_at': '2024-01-14T06:48:53.498734Z', 'updated_at': '0001-01-01T00:00:00Z', 'role': 'human', 'metadata': {'system': {'entities': [{'Label': 'WORK_OF_ART', 'Matches': [{'End': 34, 'Start': 13, 'Text': \"Parable of the Sower'\"}], 'Name': \"Parable of the Sower'\"}], 'intent': \"The subject is asking for an explanation or summary of the 'Parable of the Sower'.\"}}, 'token_count': 0}),\n",
       " Document(page_content='What other books has she written?', metadata={'score': 0.7748876810073853, 'uuid': '4d5ba350-7f9f-4b38-b989-2b983da3f456', 'created_at': '2024-01-14T06:48:53.791968Z', 'updated_at': '0001-01-01T00:00:00Z', 'role': 'human', 'metadata': {'system': {'entities': [], 'intent': 'Inquiring about the other books written by a specific author.'}}, 'token_count': 0}),\n",
       " Document(page_content=\"In addition to 'Parable of the Sower', Butler has written several other notable works, including 'Kindred', 'Dawn', and 'Parable of the Talents'.\", metadata={'score': 0.8745154142379761, 'uuid': '5920d659-d5b3-441f-a6dc-b10029504f0e', 'created_at': '2024-01-14T06:48:53.843839Z', 'updated_at': '0001-01-01T00:00:00Z', 'role': 'ai', 'metadata': {'system': {'entities': [{'Label': 'WORK_OF_ART', 'Matches': [{'End': 37, 'Start': 16, 'Text': \"Parable of the Sower'\"}], 'Name': \"Parable of the Sower'\"}, {'Label': 'ORG', 'Matches': [{'End': 45, 'Start': 39, 'Text': 'Butler'}], 'Name': 'Butler'}, {'Label': 'GPE', 'Matches': [{'End': 105, 'Start': 98, 'Text': 'Kindred'}], 'Name': 'Kindred'}, {'Label': 'WORK_OF_ART', 'Matches': [{'End': 144, 'Start': 121, 'Text': \"Parable of the Talents'\"}], 'Name': \"Parable of the Talents'\"}], 'intent': \"Sharing information about Octavia Butler's notable works.\"}}, 'token_count': 0}),\n",
       " Document(page_content='Parable of the Sower is a science fiction novel by Octavia Butler, published in 1993. It follows the story of Lauren Olamina, a young woman living in a dystopian future where society has collapsed due to environmental disasters, poverty, and violence.', metadata={'score': 0.8897120952606201, 'uuid': '2d01f292-8bc2-4cb6-b4c0-9520429ccfb4', 'created_at': '2024-01-14T06:48:53.095594Z', 'updated_at': '0001-01-01T00:00:00Z', 'role': 'ai', 'metadata': {'system': {'entities': [{'Label': 'GPE', 'Matches': [{'End': 20, 'Start': 15, 'Text': 'Sower'}], 'Name': 'Sower'}, {'Label': 'PERSON', 'Matches': [{'End': 65, 'Start': 51, 'Text': 'Octavia Butler'}], 'Name': 'Octavia Butler'}, {'Label': 'DATE', 'Matches': [{'End': 84, 'Start': 80, 'Text': '1993'}], 'Name': '1993'}, {'Label': 'PERSON', 'Matches': [{'End': 124, 'Start': 110, 'Text': 'Lauren Olamina'}], 'Name': 'Lauren Olamina'}], 'intent': 'Providing information about the book \"Parable of the Sower\" by Octavia Butler.'}}, 'token_count': 0}),\n",
       " Document(page_content='Who is the protagonist?', metadata={'score': 0.7859203815460205, 'uuid': '0ad44f84-8d88-4ab6-beea-705d9c473b12', 'created_at': '2024-01-14T06:48:53.241054Z', 'updated_at': '0001-01-01T00:00:00Z', 'role': 'human', 'metadata': {'system': {'entities': [], 'intent': 'Inquiring about the main character or leading figure in a story or movie.'}}, 'token_count': 0})]"
      ]
     },
     "execution_count": 30,
     "metadata": {},
     "output_type": "execute_result"
    }
   ],
   "source": [
    "zep_retriever = ZepRetriever(\n",
    "    session_id=session_id,  # Ensure that you provide the session_id when instantiating the Retriever\n",
    "    url=ZEP_API_URL,\n",
    "    top_k=5,\n",
    "    api_key=zep_api_key,\n",
    "    search_type=SearchType.mmr,\n",
    "    mmr_lambda=0.5,\n",
    ")\n",
    "\n",
    "await zep_retriever.aget_relevant_documents(\"Who wrote Parable of the Sower?\")"
   ]
  },
  {
   "cell_type": "code",
   "execution_count": 31,
   "metadata": {},
   "outputs": [
    {
     "data": {
      "text/plain": [
       "[Document(page_content=\"What is the 'Parable of the Sower'?\", metadata={'score': 0.9250596761703491, 'uuid': 'b2a4b400-633b-4a8d-a63b-4557c8928043', 'created_at': '2024-01-14T06:48:53.498734Z', 'updated_at': '0001-01-01T00:00:00Z', 'role': 'human', 'metadata': {'system': {'entities': [{'Label': 'WORK_OF_ART', 'Matches': [{'End': 34, 'Start': 13, 'Text': \"Parable of the Sower'\"}], 'Name': \"Parable of the Sower'\"}], 'intent': \"The subject is asking for an explanation or summary of the 'Parable of the Sower'.\"}}, 'token_count': 0}),\n",
       " Document(page_content='What other books has she written?', metadata={'score': 0.7748876810073853, 'uuid': '4d5ba350-7f9f-4b38-b989-2b983da3f456', 'created_at': '2024-01-14T06:48:53.791968Z', 'updated_at': '0001-01-01T00:00:00Z', 'role': 'human', 'metadata': {'system': {'entities': [], 'intent': 'Inquiring about the other books written by a specific author.'}}, 'token_count': 0}),\n",
       " Document(page_content=\"In addition to 'Parable of the Sower', Butler has written several other notable works, including 'Kindred', 'Dawn', and 'Parable of the Talents'.\", metadata={'score': 0.8745154142379761, 'uuid': '5920d659-d5b3-441f-a6dc-b10029504f0e', 'created_at': '2024-01-14T06:48:53.843839Z', 'updated_at': '0001-01-01T00:00:00Z', 'role': 'ai', 'metadata': {'system': {'entities': [{'Label': 'WORK_OF_ART', 'Matches': [{'End': 37, 'Start': 16, 'Text': \"Parable of the Sower'\"}], 'Name': \"Parable of the Sower'\"}, {'Label': 'ORG', 'Matches': [{'End': 45, 'Start': 39, 'Text': 'Butler'}], 'Name': 'Butler'}, {'Label': 'GPE', 'Matches': [{'End': 105, 'Start': 98, 'Text': 'Kindred'}], 'Name': 'Kindred'}, {'Label': 'WORK_OF_ART', 'Matches': [{'End': 144, 'Start': 121, 'Text': \"Parable of the Talents'\"}], 'Name': \"Parable of the Talents'\"}], 'intent': \"Sharing information about Octavia Butler's notable works.\"}}, 'token_count': 0}),\n",
       " Document(page_content='Parable of the Sower is a science fiction novel by Octavia Butler, published in 1993. It follows the story of Lauren Olamina, a young woman living in a dystopian future where society has collapsed due to environmental disasters, poverty, and violence.', metadata={'score': 0.8897120952606201, 'uuid': '2d01f292-8bc2-4cb6-b4c0-9520429ccfb4', 'created_at': '2024-01-14T06:48:53.095594Z', 'updated_at': '0001-01-01T00:00:00Z', 'role': 'ai', 'metadata': {'system': {'entities': [{'Label': 'GPE', 'Matches': [{'End': 20, 'Start': 15, 'Text': 'Sower'}], 'Name': 'Sower'}, {'Label': 'PERSON', 'Matches': [{'End': 65, 'Start': 51, 'Text': 'Octavia Butler'}], 'Name': 'Octavia Butler'}, {'Label': 'DATE', 'Matches': [{'End': 84, 'Start': 80, 'Text': '1993'}], 'Name': '1993'}, {'Label': 'PERSON', 'Matches': [{'End': 124, 'Start': 110, 'Text': 'Lauren Olamina'}], 'Name': 'Lauren Olamina'}], 'intent': 'Providing information about the book \"Parable of the Sower\" by Octavia Butler.'}}, 'token_count': 0}),\n",
       " Document(page_content='Who is the protagonist?', metadata={'score': 0.7859203815460205, 'uuid': '0ad44f84-8d88-4ab6-beea-705d9c473b12', 'created_at': '2024-01-14T06:48:53.241054Z', 'updated_at': '0001-01-01T00:00:00Z', 'role': 'human', 'metadata': {'system': {'entities': [], 'intent': 'Inquiring about the main character or leading figure in a story or movie.'}}, 'token_count': 0})]"
      ]
     },
     "execution_count": 31,
     "metadata": {},
     "output_type": "execute_result"
    }
   ],
   "source": [
    "filter = {\"where\": {\"jsonpath\": '$[*] ? (@.Label == \"WORK_OF_ART\")'}}\n",
    "\n",
    "await zep_retriever.aget_relevant_documents(\n",
    "    \"Who wrote Parable of the Sower?\", metadata=filter\n",
    ")\n"
   ]
  },
  {
   "cell_type": "code",
   "execution_count": 32,
   "metadata": {},
   "outputs": [
    {
     "data": {
      "text/plain": [
       "[Document(page_content='The AI provides information about Octavia Butler\\'s book \"Parable of the Sower,\" including the dystopian setting in the 2020s, the protagonist Lauren Olamina with the ability of \\'hyperempathy\\', and the main theme of survival and societal collapse.', metadata={'score': 0.8266599178314209, 'uuid': '5f565f47-e2c2-4172-8371-8bc6f7d7b5b2', 'created_at': '2024-01-14T06:48:58.222516Z', 'token_count': 0}),\n",
       " Document(page_content=\"The human asks about movies based on Octavia Butler's books, and the AI mentions the FX series Kindred. The human then asks about her contemporaries, and the AI lists Ursula K. Le Guin, Samuel R. Delany, and Joanna Russ. Finally, the human inquires about the awards Octavia Butler won, and the AI mentions the Hugo Award, the Nebula Award, and the MacArthur Fellowship.\", metadata={'score': 0.7454637289047241, 'uuid': 'a3453386-7879-4e96-9c6a-26359a75010c', 'created_at': '2024-01-14T06:48:56.093355Z', 'token_count': 0})]"
      ]
     },
     "execution_count": 32,
     "metadata": {},
     "output_type": "execute_result"
    }
   ],
   "source": [
    "zep_retriever = ZepRetriever(\n",
    "    session_id=session_id,  # Ensure that you provide the session_id when instantiating the Retriever\n",
    "    url=ZEP_API_URL,\n",
    "    top_k=3,\n",
    "    api_key=zep_api_key,\n",
    "    search_scope=SearchScope.summary,\n",
    "    search_type=SearchType.mmr,\n",
    "    mmr_lambda=0.5,\n",
    ")\n",
    "\n",
    "await zep_retriever.aget_relevant_documents(\"Who wrote Parable of the Sower?\")"
   ]
  },
  {
   "cell_type": "code",
   "execution_count": null,
   "metadata": {},
   "outputs": [],
   "source": []
  }
 ],
 "metadata": {
  "kernelspec": {
   "display_name": "Python 3",
   "language": "python",
   "name": "python3"
  },
  "language_info": {
   "codemirror_mode": {
    "name": "ipython",
    "version": 3
   },
   "file_extension": ".py",
   "mimetype": "text/x-python",
   "name": "python",
   "nbconvert_exporter": "python",
   "pygments_lexer": "ipython3",
   "version": "3.10.13"
  }
 },
 "nbformat": 4,
 "nbformat_minor": 2
}
